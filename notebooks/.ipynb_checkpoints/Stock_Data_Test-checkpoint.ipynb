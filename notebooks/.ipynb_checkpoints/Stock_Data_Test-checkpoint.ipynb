{
 "cells": [
  {
   "cell_type": "code",
   "execution_count": 6,
   "id": "8933c972-b315-45d1-896b-3cd5fde55657",
   "metadata": {},
   "outputs": [],
   "source": [
    "import yfinance as yf\n",
    "import pandas as pd\n",
    "import os\n",
    "\n",
    "def fetch_stock_data(tickers, start_date=\"2015-01-01\", end_date=\"2025-01-01\", save_csv=True):\n",
    "    \"\"\"\n",
    "    Fetch historical close prices for given stock tickers.\n",
    "    \"\"\"\n",
    "    print(f\"Fetching stock data for: {tickers}\")\n",
    "    try:\n",
    "        stock_data = yf.download(tickers, start=start_date, end=end_date)\n",
    "        \n",
    "        if \"Close\" in stock_data:\n",
    "            stock_data = stock_data[\"Close\"]\n",
    "            print(\"Data fetched successfully!\")\n",
    "        else:\n",
    "            print(\"Warning: 'Close' column not found.\")\n",
    "        \n",
    "        if save_csv:\n",
    "            os.makedirs(\"data\", exist_ok=True)\n",
    "            stock_data.to_csv(\"data/stock_data.csv\")\n",
    "            print(\"Data saved to data/stock_data.csv\")\n",
    "\n",
    "        return stock_data\n",
    "\n",
    "    except Exception as e:\n",
    "        print(f\"Error fetching stock data: {e}\")\n",
    "        return None"
   ]
  },
  {
   "cell_type": "code",
   "execution_count": 7,
   "id": "8919d0e9-e8c5-40b5-875e-12c87e942f0d",
   "metadata": {
    "scrolled": true
   },
   "outputs": [
    {
     "name": "stderr",
     "output_type": "stream",
     "text": [
      "[*********************100%***********************]  1 of 1 completed"
     ]
    },
    {
     "name": "stdout",
     "output_type": "stream",
     "text": [
      "Fetching stock data...\n",
      "Fetching stock data for: AAPL\n",
      "Data fetched successfully!\n"
     ]
    },
    {
     "name": "stderr",
     "output_type": "stream",
     "text": [
      "\n"
     ]
    }
   ],
   "source": [
    "import yfinance as yf\n",
    "import pandas as pd\n",
    "\n",
    "# Define tickers and date range\n",
    "tickers = [\"AAPL\", \"MSFT\", \"GOOGL\", \"TSLA\", \"SPY\", \"BND\"]\n",
    "start_date = \"2015-01-01\"\n",
    "end_date = \"2025-01-01\"\n",
    "\n",
    "# Fetch data using yfinance\n",
    "print(\"Fetching stock data...\")\n",
    "stock_data = fetch_stock_data('AAPL', save_csv=False)"
   ]
  },
  {
   "cell_type": "code",
   "execution_count": 8,
   "id": "3beee52a-b57f-434c-b30a-d01fe9243cf7",
   "metadata": {},
   "outputs": [
    {
     "data": {
      "text/html": [
       "<div>\n",
       "<style scoped>\n",
       "    .dataframe tbody tr th:only-of-type {\n",
       "        vertical-align: middle;\n",
       "    }\n",
       "\n",
       "    .dataframe tbody tr th {\n",
       "        vertical-align: top;\n",
       "    }\n",
       "\n",
       "    .dataframe thead th {\n",
       "        text-align: right;\n",
       "    }\n",
       "</style>\n",
       "<table border=\"1\" class=\"dataframe\">\n",
       "  <thead>\n",
       "    <tr style=\"text-align: right;\">\n",
       "      <th>Ticker</th>\n",
       "      <th>AAPL</th>\n",
       "    </tr>\n",
       "    <tr>\n",
       "      <th>Date</th>\n",
       "      <th></th>\n",
       "    </tr>\n",
       "  </thead>\n",
       "  <tbody>\n",
       "    <tr>\n",
       "      <th>2015-01-02</th>\n",
       "      <td>24.347178</td>\n",
       "    </tr>\n",
       "    <tr>\n",
       "      <th>2015-01-05</th>\n",
       "      <td>23.661268</td>\n",
       "    </tr>\n",
       "    <tr>\n",
       "      <th>2015-01-06</th>\n",
       "      <td>23.663496</td>\n",
       "    </tr>\n",
       "    <tr>\n",
       "      <th>2015-01-07</th>\n",
       "      <td>23.995319</td>\n",
       "    </tr>\n",
       "    <tr>\n",
       "      <th>2015-01-08</th>\n",
       "      <td>24.917267</td>\n",
       "    </tr>\n",
       "    <tr>\n",
       "      <th>...</th>\n",
       "      <td>...</td>\n",
       "    </tr>\n",
       "    <tr>\n",
       "      <th>2024-12-24</th>\n",
       "      <td>258.200012</td>\n",
       "    </tr>\n",
       "    <tr>\n",
       "      <th>2024-12-26</th>\n",
       "      <td>259.019989</td>\n",
       "    </tr>\n",
       "    <tr>\n",
       "      <th>2024-12-27</th>\n",
       "      <td>255.589996</td>\n",
       "    </tr>\n",
       "    <tr>\n",
       "      <th>2024-12-30</th>\n",
       "      <td>252.199997</td>\n",
       "    </tr>\n",
       "    <tr>\n",
       "      <th>2024-12-31</th>\n",
       "      <td>250.419998</td>\n",
       "    </tr>\n",
       "  </tbody>\n",
       "</table>\n",
       "<p>2516 rows × 1 columns</p>\n",
       "</div>"
      ],
      "text/plain": [
       "Ticker            AAPL\n",
       "Date                  \n",
       "2015-01-02   24.347178\n",
       "2015-01-05   23.661268\n",
       "2015-01-06   23.663496\n",
       "2015-01-07   23.995319\n",
       "2015-01-08   24.917267\n",
       "...                ...\n",
       "2024-12-24  258.200012\n",
       "2024-12-26  259.019989\n",
       "2024-12-27  255.589996\n",
       "2024-12-30  252.199997\n",
       "2024-12-31  250.419998\n",
       "\n",
       "[2516 rows x 1 columns]"
      ]
     },
     "execution_count": 8,
     "metadata": {},
     "output_type": "execute_result"
    }
   ],
   "source": [
    "stock_data"
   ]
  }
 ],
 "metadata": {
  "kernelspec": {
   "display_name": "Python 3 (ipykernel)",
   "language": "python",
   "name": "python3"
  },
  "language_info": {
   "codemirror_mode": {
    "name": "ipython",
    "version": 3
   },
   "file_extension": ".py",
   "mimetype": "text/x-python",
   "name": "python",
   "nbconvert_exporter": "python",
   "pygments_lexer": "ipython3",
   "version": "3.9.6"
  }
 },
 "nbformat": 4,
 "nbformat_minor": 5
}
