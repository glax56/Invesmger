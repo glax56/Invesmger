{
 "cells": [
  {
   "cell_type": "code",
   "execution_count": 3,
   "id": "7386e804-9cf4-42d8-ad0b-e0e5199383cd",
   "metadata": {},
   "outputs": [
    {
     "name": "stderr",
     "output_type": "stream",
     "text": [
      "[*********************100%***********************]  5 of 5 completed"
     ]
    },
    {
     "name": "stdout",
     "output_type": "stream",
     "text": [
      "Fetching stock data for risk analysis...\n",
      "Fetching stock data for: ['AAPL', 'MSFT', 'GOOGL', 'TSLA', 'SPY']\n",
      "Data fetched successfully!\n",
      "Data saved to data/stock_data.csv\n",
      "\n",
      "Evaluating Portfolio Risk...\n",
      "        Volatility  Sharpe Ratio  Max Drawdown\n",
      "Ticker                                        \n",
      "AAPL      0.224197      1.384991     -0.153548\n",
      "GOOGL     0.280777      1.207664     -0.221376\n",
      "MSFT      0.199495      0.681509     -0.154868\n",
      "SPY       0.125770      1.723392     -0.084056\n",
      "TSLA      0.636218      1.046204     -0.409233\n",
      "\n",
      "Suggesting Portfolio Adjustments for low risk level...\n",
      "{'GOOGL': 'Consider reducing exposure or shifting to lower-risk assets.', 'TSLA': 'Consider reducing exposure or shifting to lower-risk assets.'}\n"
     ]
    },
    {
     "name": "stderr",
     "output_type": "stream",
     "text": [
      "\n"
     ]
    }
   ],
   "source": [
    "import sys\n",
    "import os\n",
    "import pandas as pd\n",
    "\n",
    "# Ensure Jupyter Notebook can find project modules\n",
    "sys.path.append(os.path.abspath(\"..\"))\n",
    "\n",
    "from app.risk_analysis import evaluate_portfolio_risk, suggest_portfolio_adjustments\n",
    "from app.data_fetch import fetch_stock_data\n",
    "from app.portfolio_creation import create_portfolio\n",
    "\n",
    "# Define test portfolio\n",
    "print(\"Fetching stock data for risk analysis...\")\n",
    "tickers = [\"AAPL\", \"MSFT\", \"GOOGL\", \"TSLA\", \"SPY\"]\n",
    "stock_data = fetch_stock_data(tickers, start_date=\"2024-01-01\")\n",
    "\n",
    "# Run risk analysis\n",
    "print(\"\\nEvaluating Portfolio Risk...\")\n",
    "risk_metrics = evaluate_portfolio_risk(stock_data)\n",
    "print(risk_metrics)\n",
    "\n",
    "# Test portfolio adjustments based on risk level\n",
    "risk_level = \"low\"  # Adjust as needed\n",
    "print(f\"\\nSuggesting Portfolio Adjustments for {risk_level} risk level...\")\n",
    "adjustments = suggest_portfolio_adjustments(risk_metrics, risk_level)\n",
    "print(adjustments)"
   ]
  }
 ],
 "metadata": {
  "kernelspec": {
   "display_name": "Python 3 (ipykernel)",
   "language": "python",
   "name": "python3"
  },
  "language_info": {
   "codemirror_mode": {
    "name": "ipython",
    "version": 3
   },
   "file_extension": ".py",
   "mimetype": "text/x-python",
   "name": "python",
   "nbconvert_exporter": "python",
   "pygments_lexer": "ipython3",
   "version": "3.9.6"
  }
 },
 "nbformat": 4,
 "nbformat_minor": 5
}
