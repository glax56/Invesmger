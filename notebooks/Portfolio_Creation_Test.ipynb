{
 "cells": [
  {
   "cell_type": "code",
   "execution_count": 1,
   "id": "01dd59dd-8c2a-4f18-b236-69b82c10affe",
   "metadata": {
    "scrolled": true
   },
   "outputs": [
    {
     "name": "stderr",
     "output_type": "stream",
     "text": [
      "/Users/garrisonwinter/Desktop/Invesmger/vInvesmger/lib/python3.9/site-packages/urllib3/__init__.py:35: NotOpenSSLWarning: urllib3 v2 only supports OpenSSL 1.1.1+, currently the 'ssl' module is compiled with 'LibreSSL 2.8.3'. See: https://github.com/urllib3/urllib3/issues/3020\n",
      "  warnings.warn(\n"
     ]
    },
    {
     "name": "stdout",
     "output_type": "stream",
     "text": [
      "Testing User-Defined Portfolio Alignment...\n"
     ]
    },
    {
     "name": "stderr",
     "output_type": "stream",
     "text": [
      "[*********************100%***********************]  4 of 4 completed\n",
      "[*********************100%***********************]  3 of 3 completed\n",
      "[*********************100%***********************]  4 of 4 completed\n",
      "[*********************100%***********************]  3 of 3 completed\n",
      "[*********************100%***********************]  4 of 4 completed\n"
     ]
    },
    {
     "name": "stdout",
     "output_type": "stream",
     "text": [
      "User-Defined Portfolio Adjusted:\n",
      "       Allocation %\n",
      "QQQ            20.0\n",
      "VOO            20.0\n",
      "AGG            12.5\n",
      "BND            12.5\n",
      "GOOGL          12.5\n",
      "TSLA           12.5\n",
      "VLO             5.0\n",
      "CVX             5.0\n",
      "\n",
      "Testing Auto-Generated Portfolio...\n"
     ]
    },
    {
     "name": "stderr",
     "output_type": "stream",
     "text": [
      "[*********************100%***********************]  3 of 3 completed\n",
      "[*********************100%***********************]  4 of 4 completed\n",
      "[*********************100%***********************]  3 of 3 completed\n"
     ]
    },
    {
     "name": "stdout",
     "output_type": "stream",
     "text": [
      "Generated Portfolio (High Risk Profile):\n",
      "       Allocation %\n",
      "QQQ            10.0\n",
      "VOO            10.0\n",
      "AGG             5.0\n",
      "BND             5.0\n",
      "GOOGL          25.0\n",
      "TSLA           25.0\n",
      "VLO            10.0\n",
      "CVX            10.0\n"
     ]
    }
   ],
   "source": [
    "import sys\n",
    "import os\n",
    "import pandas as pd\n",
    "\n",
    "sys.path.append(os.path.abspath(\"..\"))\n",
    "\n",
    "from app.portfolio_creation import create_portfolio\n",
    "\n",
    "print(\"Testing User-Defined Portfolio Alignment...\")\n",
    "user_defined_portfolio = {\"AAPL\": 0.4, \"MSFT\": 0.3, \"GOOGL\": 0.3}\n",
    "risk_level = \"medium\"\n",
    "\n",
    "final_portfolio = create_portfolio(user_defined=user_defined_portfolio, risk_level=risk_level)\n",
    "print(\"User-Defined Portfolio Adjusted:\")\n",
    "print(pd.DataFrame.from_dict(final_portfolio, orient=\"index\", columns=[\"Allocation %\"]) * 100)\n",
    "\n",
    "print(\"\\nTesting Auto-Generated Portfolio...\")\n",
    "generated_portfolio = create_portfolio(risk_level=\"high\")\n",
    "print(\"Generated Portfolio (High Risk Profile):\")\n",
    "print(pd.DataFrame.from_dict(generated_portfolio, orient=\"index\", columns=[\"Allocation %\"]) * 100)"
   ]
  },
  {
   "cell_type": "code",
   "execution_count": null,
   "id": "f9c22f73-7e13-48e5-a1a8-74ca461d74e2",
   "metadata": {},
   "outputs": [],
   "source": []
  }
 ],
 "metadata": {
  "kernelspec": {
   "display_name": "Python 3 (ipykernel)",
   "language": "python",
   "name": "python3"
  },
  "language_info": {
   "codemirror_mode": {
    "name": "ipython",
    "version": 3
   },
   "file_extension": ".py",
   "mimetype": "text/x-python",
   "name": "python",
   "nbconvert_exporter": "python",
   "pygments_lexer": "ipython3",
   "version": "3.9.6"
  }
 },
 "nbformat": 4,
 "nbformat_minor": 5
}
